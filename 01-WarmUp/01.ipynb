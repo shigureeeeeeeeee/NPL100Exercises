{
 "cells": [
  {
   "cell_type": "code",
   "execution_count": 2,
   "metadata": {},
   "outputs": [
    {
     "name": "stdout",
     "output_type": "stream",
     "text": [
      "desserts\n"
     ]
    }
   ],
   "source": [
    "#01\n",
    "text = \"stressed\"\n",
    "print(text[::-1])"
   ]
  },
  {
   "cell_type": "code",
   "execution_count": 1,
   "metadata": {},
   "outputs": [
    {
     "name": "stdout",
     "output_type": "stream",
     "text": [
      "パタトクカシーー\n"
     ]
    }
   ],
   "source": [
    "#02\n",
    "word1 = \"パトカー\"\n",
    "word2 = \"タクシー\"\n",
    "ans = \"\"\n",
    "\n",
    "for i in range(len(word1)):\n",
    "    merge_words = word1[i] + word2[i]\n",
    "    ans += merge_words\n",
    "\n",
    "print(ans)"
   ]
  },
  {
   "cell_type": "code",
   "execution_count": 83,
   "metadata": {},
   "outputs": [
    {
     "name": "stdout",
     "output_type": "stream",
     "text": [
      "[3, 1, 4, 1, 6, 9, 2, 7, 5, 3, 5, 8, 9, 7, 10]\n"
     ]
    }
   ],
   "source": [
    "#03\n",
    "text = \"Now I need a drink, alcoholic of course, after the heavy lectures involving quantum mechanics.\"\n",
    "words = text.split()\n",
    "ans = []\n",
    "\n",
    "for i in range(len(words)):\n",
    "    words_len = len(words[i])\n",
    "    ans.append(words_len)\n",
    "\n",
    "print(ans)"
   ]
  },
  {
   "cell_type": "code",
   "execution_count": 98,
   "metadata": {},
   "outputs": [
    {
     "name": "stdout",
     "output_type": "stream",
     "text": [
      "{'H': 1, 'He': 2, 'Li': 3, 'Be': 4, 'B': 5, 'C': 6, 'N': 7, 'O': 8, 'F': 9, 'Ne': 10, 'Na': 11, 'Mi': 12, 'Al': 13, 'Si': 14, 'P': 15, 'S': 16, 'Cl': 17, 'Ar': 18, 'K': 19, 'Ca': 20}\n"
     ]
    }
   ],
   "source": [
    "#04\n",
    "text = \"Hi He Lied Because Boron Could Not Oxidize Fluorine. New Nations Might Also Sign Peace Security Clause. Arthur King Can.\"\n",
    "words = text.split()\n",
    "index = {1, 5, 6, 7, 8, 9, 15, 16, 19}\n",
    "ans = {}\n",
    "\n",
    "\n",
    "for i in range(len(words)):\n",
    "    word = words[i]\n",
    "    position = i + 1 #問題文が位置を1からにしてる\n",
    "\n",
    "    if position in index:\n",
    "        ans[word[0]] = position\n",
    "    else:\n",
    "        ans[word[:2]] = position\n",
    "\n",
    "print(ans)"
   ]
  },
  {
   "cell_type": "code",
   "execution_count": 105,
   "metadata": {},
   "outputs": [
    {
     "name": "stdout",
     "output_type": "stream",
     "text": [
      "単語bi-gram: [['I', 'am'], ['am', 'an'], ['an', 'NLPer']]\n",
      "文字bi-gram: ['I ', ' a', 'am', 'm ', ' a', 'an', 'n ', ' N', 'NL', 'LP', 'Pe', 'er']\n"
     ]
    }
   ],
   "source": [
    "#05\n",
    "def n_gram(target, n):\n",
    "    ans = []\n",
    "\n",
    "    for i in range(len(target) - n + 1):\n",
    "        gram = target[i:i + n]\n",
    "        ans.append(gram)\n",
    "        \n",
    "    return ans\n",
    "#リスト内包表記使えば return [target[i:i+n] for i in range(len(target) - n + 1)]みたいに書けるらしい\n",
    "\n",
    "text = \"I am an NLPer\"\n",
    "words = text.split()\n",
    "\n",
    "print(\"単語bi-gram:\", n_gram(words, 2))\n",
    "print(\"文字bi-gram:\", n_gram(text, 2))"
   ]
  },
  {
   "cell_type": "code",
   "execution_count": 106,
   "metadata": {},
   "outputs": [
    {
     "name": "stdout",
     "output_type": "stream",
     "text": [
      "X = {'pa', 'ap', 'ad', 'se', 'ra', 'is', 'di', 'ar'}\n",
      "Y = {'pa', 'ap', 'ra', 'ph', 'gr', 'ag', 'ar'}\n",
      "和集合 (X | Y) = {'pa', 'ap', 'ad', 'se', 'ra', 'ph', 'is', 'di', 'gr', 'ag', 'ar'}\n",
      "積集合 (X & Y) = {'pa', 'ap', 'ra', 'ar'}\n",
      "差集合 (X - Y) = {'ad', 'se', 'is', 'di'}\n",
      "差集合 (Y - X) = {'gr', 'ag', 'ph'}\n"
     ]
    }
   ],
   "source": [
    "#06\n",
    "def n_gram(target, n):\n",
    "    return [target[i:i+n] for i in range(len(target) - n + 1)]\n",
    "\n",
    "str1 = \"paraparaparadise\"\n",
    "str2 = \"paragraph\"\n",
    "\n",
    "X = set(n_gram(str1, 2))\n",
    "Y = set(n_gram(str2, 2))\n",
    "\n",
    "union_set = X.union(Y)\n",
    "intersection_set = X.intersection(Y)\n",
    "difference_set_X = X.difference(Y)\n",
    "difference_set_Y = Y.difference(X)\n",
    "\n",
    "print(\"X =\", X)\n",
    "print(\"Y =\", Y)\n",
    "print(\"和集合 (X | Y) =\", union_set)\n",
    "print(\"積集合 (X & Y) =\", intersection_set)\n",
    "print(\"差集合 (X - Y) =\", difference_set_X)\n",
    "print(\"差集合 (Y - X) =\", difference_set_Y)\n",
    "\n",
    "union_set = X.union(Y)\n",
    "intersection_set = X.intersection(Y)\n",
    "difference_set_X = X.difference(Y)\n",
    "difference_set_Y = Y.difference(X)"
   ]
  },
  {
   "cell_type": "code",
   "execution_count": 109,
   "metadata": {},
   "outputs": [
    {
     "name": "stdout",
     "output_type": "stream",
     "text": [
      "12時の気温は22.4\n"
     ]
    }
   ],
   "source": [
    "#07\n",
    "def template(x, y, z):\n",
    "    ans = str(x) + \"時の\" + str(y) + \"は\" + str(z)\n",
    "    return ans\n",
    "\n",
    "print(template(12, \"気温\",22.4 ))"
   ]
  },
  {
   "cell_type": "code",
   "execution_count": 111,
   "metadata": {},
   "outputs": [
    {
     "name": "stdout",
     "output_type": "stream",
     "text": [
      "暗号化されたメッセージ: Hvool, Wliow! Tsrh rh z hvxivg nvhhztv.\n",
      "復号化されたメッセージ: Hello, World! This is a secret message.\n"
     ]
    }
   ],
   "source": [
    "#08\n",
    "def cipher(text):\n",
    "    result = \"\"\n",
    "    for char in text:\n",
    "        if char.islower():\n",
    "            result += chr(219 - ord(char))\n",
    "        else:\n",
    "            result += char\n",
    "    return result\n",
    "\n",
    "message = \"Hello, World! This is a secret message.\"\n",
    "\n",
    "encrypted_message = cipher(message)\n",
    "print(\"暗号化されたメッセージ:\", cipher(message))\n",
    "decrypted_message = cipher(encrypted_message)\n",
    "print(\"復号化されたメッセージ:\", decrypted_message)"
   ]
  },
  {
   "cell_type": "code",
   "execution_count": 140,
   "metadata": {},
   "outputs": [
    {
     "name": "stdout",
     "output_type": "stream",
     "text": [
      "\n",
      "スクランブルされた文章:\n",
      "I cln'oudt bliveee that I cluod acllauty unernsadtd what I was rdeinag : the pmhnnaeeol pwoer of the haumn mind.\n"
     ]
    }
   ],
   "source": [
    "#09\n",
    "import random\n",
    "\n",
    "original_text = \"I couldn't believe that I could actually understand what I was reading : the phenomenal power of the human mind .\"\n",
    "words = original_text.rstrip('.').split()\n",
    "\n",
    "scrambled_words = []\n",
    "for word in words:\n",
    "    if len(word) <= 4:\n",
    "        scrambled_words.append(word)\n",
    "    else:\n",
    "        middle_chars = list(word[1:-1])\n",
    "        random.shuffle(middle_chars)\n",
    "        scrambled_word = word[0] + ''.join(middle_chars) + word[-1]\n",
    "        scrambled_words.append(scrambled_word)\n",
    "\n",
    "ans = ' '.join(scrambled_words) + '.'\n",
    "\n",
    "print(\"\\nスクランブルされた文章:\")\n",
    "print(ans)"
   ]
  }
 ],
 "metadata": {
  "kernelspec": {
   "display_name": "Python 3",
   "language": "python",
   "name": "python3"
  },
  "language_info": {
   "codemirror_mode": {
    "name": "ipython",
    "version": 3
   },
   "file_extension": ".py",
   "mimetype": "text/x-python",
   "name": "python",
   "nbconvert_exporter": "python",
   "pygments_lexer": "ipython3",
   "version": "3.12.3"
  }
 },
 "nbformat": 4,
 "nbformat_minor": 2
}
